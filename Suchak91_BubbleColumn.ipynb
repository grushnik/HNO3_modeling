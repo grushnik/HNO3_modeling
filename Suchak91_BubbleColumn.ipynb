{
 "cells": [
  {
   "cell_type": "code",
   "execution_count": 26,
   "id": "b24be8b4-d1b5-44e8-9e45-8278e01d5f55",
   "metadata": {},
   "outputs": [],
   "source": [
    "import numpy as np\n",
    "import matplotlib.pyplot as plt\n",
    "from scipy.optimize import fsolve\n",
    "from scipy.integrate import odeint\n",
    "from scipy.integrate import solve_ivp\n",
    "import scipy.optimize as opt"
   ]
  },
  {
   "cell_type": "code",
   "execution_count": 27,
   "id": "6440736b-5f07-49ed-bd9d-b33bedaf05ba",
   "metadata": {},
   "outputs": [],
   "source": [
    "import ModelFunctions as mf"
   ]
  },
  {
   "attachments": {},
   "cell_type": "markdown",
   "id": "d617fc62-118d-4c88-a715-c4f2c3605ac3",
   "metadata": {},
   "source": [
    "# Inputs"
   ]
  },
  {
   "cell_type": "code",
   "execution_count": 28,
   "id": "b3e9c334-62af-4f1d-ab7b-8938addac678",
   "metadata": {},
   "outputs": [],
   "source": [
    "'''\n",
    "input from bubble column \n",
    "\n",
    "Packed column dia.= 4.25 in. (0.10795 m), ht.= 1 m (before bubbling)\n",
    "Gas flow rate = 22 LPM\n",
    "(NO+NO2) % = 2.4 %\n",
    "Total press. = 101.33 kN/m2\n",
    "10 wt % HNO3\n",
    "'''\n",
    "\n",
    "Tc = 25 # [C]\n",
    "pT = 101.33   # [kPa]\n",
    "yO2 = 0.25\n",
    "yN_star = 0.039\n",
    "yNO_star = 0.1*yN_star\n",
    "yH2O_star = 0.0\n",
    "\n",
    "T = 273.15 + Tc    # [K]\n",
    "yN_star_0 = yN_star"
   ]
  },
  {
   "cell_type": "code",
   "execution_count": 29,
   "id": "fce85ce8-373e-4659-843d-b340f2b28f30",
   "metadata": {},
   "outputs": [],
   "source": [
    "w = 1.0    # [%]\n",
    "\n",
    "dia = 0.10795                               # [m]\n",
    "ht_init = 1.0                               # [m]\n",
    "A = np.pi*dia**2/4\n",
    "vG = 22/1000/60/A                           # [m/s]"
   ]
  },
  {
   "attachments": {},
   "cell_type": "markdown",
   "id": "a4543646-a0eb-4a8a-9777-20f8a41db26d",
   "metadata": {},
   "source": [
    "# Parameters calculation"
   ]
  },
  {
   "cell_type": "code",
   "execution_count": 30,
   "id": "5715255b-d2c4-41a8-a542-3f6ed15e53bc",
   "metadata": {},
   "outputs": [
    {
     "name": "stdout",
     "output_type": "stream",
     "text": [
      "total gas flow rate =  1.4988723192157643e-05  kmol/s\n"
     ]
    }
   ],
   "source": [
    "rho_L = mf.density_HNO3(np.array([w]),np.array([Tc]))[0]*1000     # [kg/m^3]\n",
    "\n",
    "S = np.pi*dia**2/4     # [m^2]\n",
    "GT = vG*S*pT/8.314/T   # [kmol/s]\n",
    "\n",
    "print('total gas flow rate = ', GT, ' kmol/s')"
   ]
  },
  {
   "cell_type": "code",
   "execution_count": 31,
   "id": "b2157a96-a34b-45c5-9df3-ac880b77a735",
   "metadata": {},
   "outputs": [
    {
     "name": "stdout",
     "output_type": "stream",
     "text": [
      "k1 = 0.002755 kPa^-2 * s^-1\n",
      "K2 = 0.064058 kPa^-1\n",
      "K3 = 0.005127 kPa^-1\n",
      "K4 = 0.013841 kPa^-1\n",
      "K5 = 0.000091 kPa^-1\n",
      "K6 = 351.282977 kPa^-0.5\n"
     ]
    }
   ],
   "source": [
    "k1,K2,K3,K4,K5 = mf.eqConst(T)\n",
    "K6 = mf.K6(T,w,K2)\n",
    "print('k1 = %f kPa^-2 * s^-1\\nK2 = %f kPa^-1\\nK3 = %f kPa^-1\\nK4 = %f kPa^-1\\nK5 = %f kPa^-1\\nK6 = %f kPa^-0.5' %(k1,K2,K3,K4,K5,K6))"
   ]
  },
  {
   "cell_type": "code",
   "execution_count": 32,
   "id": "bd85f575-d30e-453e-9a3c-78970ae87ff1",
   "metadata": {},
   "outputs": [
    {
     "name": "stdout",
     "output_type": "stream",
     "text": [
      "gas dendity is  1.1811839678014422  kg/m^3\n",
      "gas viscosity is  1.838121446779539e-05  Pa * s\n",
      "liquid dendity is  1002.41  kg/m^3\n",
      "liquid viscosity is  0.0009150933466508124  Pa * s\n",
      "liquid diffusivity is  2.5e-09  m^2/s\n",
      "water viscosity is  0.0008921118589653651  Pa * s\n"
     ]
    }
   ],
   "source": [
    "rho_L = mf.density_HNO3(np.array([w]),np.array([Tc]))[0]*1000     # [kg/m^3]\n",
    "rho_G0 = 1.29 # [kg/m^3] @ 0C\n",
    "rho_G = rho_G0*(pT/101.33)*(273/T)          # [kg/m^3]\n",
    "mu_G = 1.716e-5*(T/273)**1.5*(384/(T+111))  # [Pa * s]\n",
    "D_L = 2.5e-9                                # [m^2/s]\n",
    "mu_L = mf.mu_HNO3(w,Tc)*1e-3                # [Pa * s]\n",
    "mu_w = np.exp(-3.7188 + 578.919/(T-137.546))*1e-3  # [Pa * s]\n",
    "\n",
    "print('gas dendity is ', rho_G, ' kg/m^3')\n",
    "print('gas viscosity is ', mu_G, ' Pa * s')\n",
    "print('liquid dendity is ', rho_L, ' kg/m^3')\n",
    "print('liquid viscosity is ', mu_L, ' Pa * s')\n",
    "print('liquid diffusivity is ', D_L, ' m^2/s')\n",
    "print('water viscosity is ', mu_w, ' Pa * s')"
   ]
  },
  {
   "cell_type": "code",
   "execution_count": 33,
   "id": "9b665b86-4ebe-406c-9ac2-1a75e8799325",
   "metadata": {},
   "outputs": [
    {
     "name": "stdout",
     "output_type": "stream",
     "text": [
      "D_NO =  2.3293152263549173e-05  m^2/s\n",
      "D_NO2 =  1.4178440508247321e-05  m^2/s\n",
      "D_N2O3 =  9.450641968289852e-06  m^2/s\n",
      "D_N2O4 =  9.800665744893178e-06  m^2/s\n",
      "D_HNO2 =  1.3165694757658227e-05  m^2/s\n",
      "D_HNO3 =  1.1140203256480039e-05  m^2/s\n",
      "D_H2O =  2.5670949680595004e-05  m^2/s\n"
     ]
    }
   ],
   "source": [
    "D_G = mf.DGas([T, pT])\n",
    "print('D_NO = ', D_G[0], ' m^2/s' )\n",
    "print('D_NO2 = ', D_G[1], ' m^2/s' )\n",
    "print('D_N2O3 = ', D_G[2], ' m^2/s' )\n",
    "print('D_N2O4 = ', D_G[3], ' m^2/s' )\n",
    "print('D_HNO2 = ', D_G[4], ' m^2/s' )\n",
    "print('D_HNO3 = ', D_G[5], ' m^2/s' )\n",
    "print('D_H2O = ', D_G[6], ' m^2/s' )"
   ]
  },
  {
   "cell_type": "code",
   "execution_count": 34,
   "id": "0eef83a0-2d81-4a69-abce-37b87990331c",
   "metadata": {},
   "outputs": [
    {
     "name": "stdout",
     "output_type": "stream",
     "text": [
      "HkD_NO2 =  2.1267221203682903e-07  (kmol/s)/(m^2*(kN/m^2)^1.5)\n",
      "HkD_N2O4 =  7.907539520278462e-06  (kmol/s)/(m^2*(kN/m^2))\n",
      "HkD_N2O3 =  1.5177062404446433e-05  (kmol/s)/(m^2*(kN/m^2))\n",
      "H_HNO2 =  0.4479151281864585  (kmol/m^3)/(kN/m^2)\n"
     ]
    }
   ],
   "source": [
    "HkD_NO2, HkD_N2O4, HkD_N2O3, H_HNO2 = mf.HkD([T, pT, w, rho_L])\n",
    "print('HkD_NO2 = ', HkD_NO2, ' (kmol/s)/(m^2*(kN/m^2)^1.5)')\n",
    "print('HkD_N2O4 = ', HkD_N2O4, ' (kmol/s)/(m^2*(kN/m^2))')\n",
    "print('HkD_N2O3 = ', HkD_N2O3, ' (kmol/s)/(m^2*(kN/m^2))')\n",
    "print('H_HNO2 = ', H_HNO2, ' (kmol/m^3)/(kN/m^2)')"
   ]
  },
  {
   "cell_type": "code",
   "execution_count": 35,
   "id": "846b0387-a03d-43c2-a1e0-8aedb1db4372",
   "metadata": {},
   "outputs": [
    {
     "name": "stdout",
     "output_type": "stream",
     "text": [
      "pH2O_i =  3.15152814997911  kPa\n",
      "pHNO3_i =  5.311799290660214e-06  kPa\n"
     ]
    }
   ],
   "source": [
    "pH2O_i, pHNO3_i = mf.psatMix((100-w)/100/18/(w/100/63+(100-w)/100/18), w/100/63/(w/100/63+(100-w)/100/18), T)\n",
    "pH2O_i = pH2O_i/1000\n",
    "pHNO3_i = pHNO3_i/1000\n",
    "print('pH2O_i = ', pH2O_i, ' kPa')\n",
    "print('pHNO3_i = ', pHNO3_i, ' kPa')"
   ]
  },
  {
   "cell_type": "code",
   "execution_count": 36,
   "id": "038ad42a-9ca7-4970-b0d3-bd6e18430ac9",
   "metadata": {},
   "outputs": [
    {
     "name": "stdout",
     "output_type": "stream",
     "text": [
      "epsilon_G =  24.394153422590247  %\n",
      "volume surface mean bubble diameter =  0.0058709519811928155  m\n",
      "specific interface area =  249.30355588737785  m^2/m^3\n"
     ]
    }
   ],
   "source": [
    "R = 8.314\n",
    "g = 9.81\n",
    "sigma_L = 0.0635  # [N/m]\n",
    "epsilon_G = 0.053*(vG*100)**1.1\n",
    "d_vs = dia*26*(g*dia**2*rho_L/sigma_L)**(-0.5)*(g*dia**3/(mu_L/rho_L)**2)**(-0.12)*(vG/np.sqrt(g*dia))**(-0.12)\n",
    "area = 6*epsilon_G/d_vs\n",
    "\n",
    "print('epsilon_G = ', epsilon_G*100, ' %')\n",
    "print('volume surface mean bubble diameter = ', d_vs, ' m')\n",
    "print('specific interface area = ', area, ' m^2/m^3')"
   ]
  },
  {
   "cell_type": "code",
   "execution_count": 37,
   "id": "13a00dbb-6bd9-4ce3-b116-97b6f848504e",
   "metadata": {},
   "outputs": [
    {
     "name": "stdout",
     "output_type": "stream",
     "text": [
      "kLa =  0.002265248953218463  1/s\n",
      "kGa_NO =  2.295129523974682e-06  (kmol/s)/(m^3*(kN/m^2))\n",
      "epsilon_G =  24.394153422590247  %\n",
      "Height =  1.3226490347887854  m\n"
     ]
    }
   ],
   "source": [
    "# kL is calculated as eq 13 in \"Measurement and modeling of nitrogen oxides absorption in a pressurized reactor relevant to CO2 compression and purification process\"\n",
    "kL = D_L/d_vs*0.0142*(mu_L/rho_L/D_L)**0.5*(g*d_vs**3/(mu_L/rho_L)**2)**0.25*(g*d_vs**2*rho_L/sigma_L)*(3/8)\n",
    "\n",
    "# kGa is calculated as eq 9 in \"Measurement and modeling of nitrogen oxides absorption in a pressurized reactor relevant to CO2 compression and purification process\"\n",
    "\n",
    "ratio_NO = 0.01\n",
    "ratio = 1\n",
    "kGa_NO2 = 2e3*D_G[1]**0.5*vG**0.88/(R*T) * ratio\n",
    "kGa_N2O4 = 2e3*D_G[3]**0.5*vG**0.88/(R*T) * ratio\n",
    "kGa_N2O3 = 2e3*D_G[2]**0.5*vG**0.88/(R*T) * ratio\n",
    "kGa_HNO2 = 2e3*D_G[4]**0.5*vG**0.88/(R*T) * ratio\n",
    "kGa_HNO3 = 2e3*D_G[5]**0.5*vG**0.88/(R*T) * ratio\n",
    "kGa_H2O = 2e3*D_G[6]**0.5*vG**0.88/(R*T) * ratio\n",
    "kGa_NO = 2e3*D_G[0]**0.5*vG**0.88/(R*T) * ratio_NO\n",
    "\n",
    "print('kLa = ', kL*area, ' 1/s')\n",
    "print('kGa_NO = ', kGa_NO, ' (kmol/s)/(m^3*(kN/m^2))')\n",
    "\n",
    "epsilon_L = 1 - epsilon_G\n",
    "ht = ht_init/epsilon_L\n",
    "\n",
    "print('epsilon_G = ', epsilon_G*100, ' %')\n",
    "print('Height = ', ht, ' m')"
   ]
  },
  {
   "attachments": {},
   "cell_type": "markdown",
   "id": "82402112-b5f1-4405-b85a-94de7466a5fc",
   "metadata": {},
   "source": [
    "# Initial gas phase and interface compositions"
   ]
  },
  {
   "cell_type": "code",
   "execution_count": 38,
   "id": "943ac577-ac2b-47a2-a527-a460e8b461f2",
   "metadata": {},
   "outputs": [
    {
     "name": "stdout",
     "output_type": "stream",
     "text": [
      "yN2   = 1.000000     xN2   = 77.81 %\n",
      "yO2   = 0.250000     xO2   = 19.45 %\n",
      "yH2O  = 0.000000     xH2O  =  0.00 %\n",
      "yNO   = 0.003857     xNO   =  0.30 %\n",
      "yNO2  = 0.027447     xNO2  =  2.14 %\n",
      "yN2O3 = 0.000043     xN2O3 =  0.00 %\n",
      "yN2O4 = 0.003805     xN2O4 =  0.30 %\n",
      "yHNO2 = 0.000000     xHNO2 =  0.00 %\n",
      "yHNO3 = 0.000000     xHNO3 =  0.00 %\n",
      "----------------     ----------------\n",
      "yT    = 1.285152     xT    = 100.00 %\n"
     ]
    }
   ],
   "source": [
    "K = (K2, K3, K4, K5, pT)\n",
    "vars = [T, pT, yO2, yN_star, yNO_star, yH2O_star, K]\n",
    "yT, yNO, yNO2, yH2O, yN2O4, yN2O3, yHNO2, yHNO3 = mf.gas(vars)\n",
    "\n",
    "# Report\n",
    "\n",
    "print('yN2   = %f     xN2   = %5.2f %%\\nyO2   = %f     xO2   = %5.2f %%\\n'\\\n",
    "      'yH2O  = %f     xH2O  = %5.2f %%\\nyNO   = %f     xNO   = %5.2f %%\\n'\\\n",
    "      'yNO2  = %f     xNO2  = %5.2f %%\\n'\\\n",
    "      'yN2O3 = %f     xN2O3 = %5.2f %%\\nyN2O4 = %f     xN2O4 = %5.2f %%\\n'\\\n",
    "      'yHNO2 = %f     xHNO2 = %5.2f %%\\nyHNO3 = %f     xHNO3 = %5.2f %%' \\\n",
    "       %(1, 1/yT*100, yO2, yO2/yT*100, yH2O, yH2O/yT*100, yNO, yNO/yT*100, \\\n",
    "         yNO2, yNO2/yT*100, yN2O3, yN2O3/yT*100, yN2O4, yN2O4/yT*100, \\\n",
    "         yHNO2, yHNO2/yT*100, yHNO3, yHNO3/yT*100))\n",
    "print('----------------     ----------------')\n",
    "print('yT    = %f     xT    = %.2f %%' %(yT, 100))"
   ]
  },
  {
   "cell_type": "code",
   "execution_count": 39,
   "id": "21d82796-20aa-4acb-b971-7eb0a3e6bc0f",
   "metadata": {},
   "outputs": [],
   "source": [
    "x_NOx_0 = (yNO+yNO2)/yT"
   ]
  },
  {
   "cell_type": "code",
   "execution_count": 40,
   "id": "e9bd4cf7-2a2e-4648-b225-1078ee3c1ff4",
   "metadata": {},
   "outputs": [],
   "source": [
    "pO2_o = pT*yO2/yT\n",
    "pNO_o = pT*yNO/yT\n",
    "pNO2_o = pT*yNO2/yT\n",
    "pN2O4_o = pT*yN2O4/yT\n",
    "pN2O3_o = pT*yN2O3/yT\n",
    "pHNO2_o = pT*yHNO2/yT\n",
    "pH2O_o = pT*yH2O/yT\n",
    "pHNO3_o = pT*yHNO3/yT\n",
    "\n",
    "K = (K2, K3, K4, K6, area, HkD_NO2, HkD_N2O4, HkD_N2O3, H_HNO2, pH2O_i, pNO_o, pNO2_o, pN2O4_o, pN2O3_o, pHNO2_o, kGa_NO2, kGa_N2O4, kGa_N2O3, kGa_HNO2, kGa_NO, kL)\n",
    "vars = [T, pT, yO2, yN_star, yNO_star, yH2O_star, K]\n",
    "\n",
    "pNO_i, pNO2_i, pN2O4_i, pN2O3_i, pHNO2_i, pN2O4_b, pNO2_b, pN2O3_b, pHNO2_b = mf.interface(vars)"
   ]
  },
  {
   "cell_type": "code",
   "execution_count": 41,
   "id": "6cbb9c0e-0af3-4be8-bc23-9f73608297ff",
   "metadata": {},
   "outputs": [
    {
     "name": "stdout",
     "output_type": "stream",
     "text": [
      "pNO_o   = 0.30412810.6 kPa     pNO_i    = 5.27953610.6 kPa\n",
      "pNO2_o  = 2.16412510.6 kPa     pNO2_i   = 1.20572310.6 kPa     pNO2_b   = 0.97505110.6 kPa\n",
      "pN2O4_o = 0.30001010.6 kPa     pN2O4_i  = 0.09312510.6 kPa     pN2O4_b  = 0.06090110.6 kPa\n",
      "pN2O3_o = 0.00337410.6 kPa     pN2O3_i  = 0.03263410.6 kPa     pN2O3_b  = 0.02639010.6 kPa\n",
      "pHNO2_o = 0.00000010.6 kPa     pHNO2_i  = 0.52694010.6 kPa     pHNO2_b  = 0.47386110.6 kPa\n",
      "pH2O_o  = 0.00000010.6 kPa     pH2O_i   = 3.15152810.6 kPa\n",
      "pHNO3_o = 0.00000010.6 kPa     pHNO3_i  = 0.00000510.6 kPa\n"
     ]
    }
   ],
   "source": [
    "print('pNO_o   = %f10.6 kPa     pNO_i    = %f10.6 kPa' %(pNO_o, pNO_i))\n",
    "print('pNO2_o  = %f10.6 kPa     pNO2_i   = %f10.6 kPa     pNO2_b   = %f10.6 kPa' %(pNO2_o, pNO2_i, pNO2_b))\n",
    "print('pN2O4_o = %f10.6 kPa     pN2O4_i  = %f10.6 kPa     pN2O4_b  = %f10.6 kPa' %(pN2O4_o, pN2O4_i, pN2O4_b))\n",
    "print('pN2O3_o = %f10.6 kPa     pN2O3_i  = %f10.6 kPa     pN2O3_b  = %f10.6 kPa' %(pN2O3_o, pN2O3_i, pN2O3_b))\n",
    "print('pHNO2_o = %f10.6 kPa     pHNO2_i  = %f10.6 kPa     pHNO2_b  = %f10.6 kPa' %(pHNO2_o, pHNO2_i, pHNO2_b))\n",
    "print('pH2O_o  = %f10.6 kPa     pH2O_i   = %f10.6 kPa' %(pH2O_o, pH2O_i))\n",
    "print('pHNO3_o = %f10.6 kPa     pHNO3_i  = %f10.6 kPa' %(pHNO3_o, pHNO3_i))"
   ]
  },
  {
   "cell_type": "code",
   "execution_count": 42,
   "id": "04a0ab75-9aee-49a7-9741-df1b86a7379f",
   "metadata": {},
   "outputs": [],
   "source": [
    "G = GT/yT\n",
    "xHNO3 = 18*(w/100)/(63*(1-w/100))\n",
    "\n",
    "Ra_NO_G = kGa_NO*(pNO_i - pNO_o)\n",
    "Ra_NO2_G = kGa_NO2*(pNO2_o - pNO2_i)\n",
    "Ra_N2O4_G = kGa_N2O4*(pN2O4_o - pN2O4_i)\n",
    "Ra_N2O3_G = kGa_N2O3*(pN2O3_o - pN2O3_i)\n",
    "Ra_HNO3_G = kGa_HNO3*(pHNO3_o - pHNO3_i)\n",
    "Ra_HNO2_G = kGa_HNO2*(pHNO2_o - pHNO2_i)\n",
    "Ra_H2O_G = kGa_H2O*(pH2O_i - pH2O_o)\n",
    "\n",
    "Ra_NO2_L = area*HkD_NO2*(pNO2_i - pNO2_b)**1.5\n",
    "Ra_N2O4_L = area*HkD_N2O4*(pN2O4_i - pN2O4_b)\n",
    "Ra_N2O3_L = area*HkD_N2O3*(pN2O3_i - pN2O3_b)\n",
    "Ra_HNO2_L = kL*area*H_HNO2*(pHNO2_i - pHNO2_b)"
   ]
  },
  {
   "attachments": {},
   "cell_type": "markdown",
   "id": "1609dc38-448f-4574-bb88-9499372cb684",
   "metadata": {},
   "source": [
    "# solve ODEs"
   ]
  },
  {
   "cell_type": "code",
   "execution_count": 43,
   "id": "3ff63a55-19d4-4b26-bd77-dba4ab3f586d",
   "metadata": {},
   "outputs": [],
   "source": [
    "dh = 0.001\n",
    "heights = np.arange(0, ht+dh, dh)"
   ]
  },
  {
   "cell_type": "code",
   "execution_count": 44,
   "id": "ddc9ca99-c496-40e9-9d76-381dcae114b6",
   "metadata": {},
   "outputs": [],
   "source": [
    "def interface_check(vars):\n",
    "    T, pT, yO2, yN_star, yNO_star, yH2O_star, para, pi = vars\n",
    "    K2, K3, K4, K6, a, HkD_NO2, HkD_N2O4, HkD_N2O3, H_HNO2, pH2O_i, pNO_o, pNO2_o, pN2O4_o, pN2O3_o, pHNO2_o, kGa_NO2, kGa_N2O4, kGa_N2O3, kGa_HNO2, kGa_NO, kL = para\n",
    "    pNO_i, pNO2_i = pi\n",
    "    \n",
    "    A1 = a*HkD_NO2/3\n",
    "    A2 = 1/(K2**0.5*K6**(1/3))\n",
    "    A3 = 2/3*K2*a*HkD_N2O4\n",
    "    A4 = 1/(K2*K6**(2/3))\n",
    "    A5 = 1/3*K3*a*HkD_N2O3\n",
    "    A7 = 1/6*K4**0.5*pH2O_i**0.5*kL*a*H_HNO2\n",
    "    A8 = 1/(K2**(1/4)*K6**(1/6))\n",
    "    A9 = -1*K3*kGa_N2O3\n",
    "    A10 = -0.5*K4**0.5*pH2O_i**0.5*kGa_HNO2\n",
    "    A11 = -1*kGa_NO\n",
    "    A12 = kGa_NO*pNO_o + kGa_N2O3*pN2O3_o + 0.5*kGa_HNO2*pHNO2_o\n",
    "    \n",
    "    B1 = 3*A1\n",
    "    B2 = A2\n",
    "    B3 = kGa_NO2\n",
    "    B4 = 3*A3\n",
    "    B5 = A4\n",
    "    B6 = 2*K2*kGa_N2O4\n",
    "    B7 = 3*A5\n",
    "    B8 = -1*A9\n",
    "    B9 = 3*A7\n",
    "    B10 = -1*A10\n",
    "    B11 = -1*kGa_NO2*pNO2_o - kGa_N2O3*pN2O3_o - 2*kGa_N2O4*pN2O4_o - 0.5*kGa_HNO2*pHNO2_o\n",
    "    B12 = A8\n",
    "    \n",
    "    K = (A1,A2,A3,A4,A5,A7,A8,A9,A10,A11,A12,B1,B2,B3,B4,B5,B6,B7,B8,B9,B10,B11,B12)\n",
    "    \n",
    "\n",
    "    if pNO2_i - A2*pNO_i**(1/3) >= 0:    \n",
    "        eq1 = A1*(pNO2_i - A2*pNO_i**(1/3))**1.5 + A3*(pNO2_i**2 - A4*pNO_i**(2/3)) \\\n",
    "              + A5*(pNO_i*pNO2_i - A2*pNO_i**(4/3)) + A7*(pNO_i**0.5*pNO2_i**0.5 - A8*pNO_i**(2/3)) \\\n",
    "              + A9*pNO_i*pNO2_i + A10*pNO_i**0.5*pNO2_i**0.5 + A11*pNO_i + A12\n",
    "        eq2 = B1*(pNO2_i - B2*pNO_i**(1/3))**1.5 + B3*pNO2_i + B4*(pNO2_i**2 - B5*pNO_i**(2/3)) \\\n",
    "              + B6*pNO2_i**2 + B7*(pNO_i*pNO2_i - B2*pNO_i**(4/3)) + B9*(pNO_i**0.5*pNO2_i**0.5 - B12*pNO_i**(2/3)) \\\n",
    "              + B8*pNO_i*pNO2_i + B10*pNO_i**0.5*pNO2_i**0.5 + B11\n",
    "    else:\n",
    "        eq1 = A9*pNO_i*pNO2_i + A10*pNO_i**0.5*pNO2_i**0.5 + A11*pNO_i + A12\n",
    "        eq2 = B3*pNO2_i + B6*pNO2_i**2 + B8*pNO_i*pNO2_i + B10*pNO_i**0.5*pNO2_i**0.5 + B11\n",
    "\n",
    "    return eq1,eq2"
   ]
  },
  {
   "cell_type": "code",
   "execution_count": 45,
   "id": "34b22e79-f431-4aff-ad46-00c345bf27d2",
   "metadata": {},
   "outputs": [],
   "source": [
    "yN_star_total = []\n",
    "yNOx = []\n",
    "for height in heights:\n",
    "    yNO_star = yNO_star - dh*S/G*(k1*pNO_o**2*pO2_o*epsilon_G/(8.314*T) - Ra_NO_G + Ra_N2O3_G + 0.5*Ra_HNO2_G - 0.5*Ra_HNO3_G)\n",
    "    yN_star = yN_star - dh*S/G*(-1*Ra_NO_G + Ra_NO2_G + 2*Ra_N2O3_G + 2*Ra_N2O4_G + Ra_HNO2_G + Ra_HNO3_G)\n",
    "    yH2O_star = yH2O_star - dh*S/G*(-1*Ra_H2O_G + 0.5*Ra_HNO2_G + 0.5*Ra_HNO3_G)\n",
    "    yO2 = yO2 - dh*0.5*S/G*(k1*pNO_o**2*pO2_o*epsilon_G/(8.314*T))\n",
    "    \n",
    "    \n",
    "    K_gas = (K2, K3, K4, K5, pT)\n",
    "    vars_gas = [T, pT, yO2, yN_star, yNO_star, yH2O_star, K_gas]\n",
    "    yT, yNO, yNO2, yH2O, yN2O4, yN2O3, yHNO2, yHNO3 = mf.gas(vars_gas)\n",
    "    \n",
    "    pO2_o = pT*yO2/yT\n",
    "    pNO_o = pT*yNO/yT\n",
    "    pNO2_o = pT*yNO2/yT\n",
    "    pN2O4_o = pT*yN2O4/yT\n",
    "    pN2O3_o = pT*yN2O3/yT\n",
    "    pHNO2_o = pT*yHNO2/yT\n",
    "    pH2O_o = pT*yH2O/yT\n",
    "    pHNO3_o = pT*yHNO3/yT\n",
    "\n",
    "\n",
    "    K_inter = (K2, K3, K4, K6, area, HkD_NO2, HkD_N2O4, HkD_N2O3, H_HNO2, pH2O_i, pNO_o, pNO2_o, pN2O4_o, pN2O3_o, pHNO2_o, kGa_NO2, kGa_N2O4, kGa_N2O3, kGa_HNO2, kGa_NO, kL)\n",
    "    vars_inter = [T, pT, yO2, yN_star, yNO_star, yH2O_star, K_inter]\n",
    "\n",
    "    pNO_i, pNO2_i, pN2O4_i, pN2O3_i, pHNO2_i, pN2O4_b, pNO2_b, pN2O3_b, pHNO2_b = mf.interface(vars_inter)\n",
    "    \n",
    "    vars_check = [T, pT, yO2, yN_star, yNO_star, yH2O_star, K_inter, (pNO_i, pNO2_i)]\n",
    "    err_1, err_2 = interface_check(vars_check)\n",
    "    if np.isnan(err_1) or np.isnan(err_2) or np.abs(err_1) > 1e-5 or np.abs(err_2) > 1e-5:\n",
    "        print(height,yN_star, err_1, err_2)\n",
    "    \n",
    "    Ra_NO_G = max(kGa_NO*(pNO_i - pNO_o),0)\n",
    "    Ra_NO2_G = max(kGa_NO2*(pNO2_o - pNO2_i),0)\n",
    "    Ra_N2O4_G = max(kGa_N2O4*(pN2O4_o - pN2O4_i),0)\n",
    "    Ra_N2O3_G = max(kGa_N2O3*(pN2O3_o - pN2O3_i),0)\n",
    "    Ra_HNO3_G = max(kGa_HNO3*(pHNO3_o - pHNO3_i),0)\n",
    "    Ra_HNO2_G = max(kGa_HNO2*(pHNO2_o - pHNO2_i),0)\n",
    "    Ra_H2O_G = max(kGa_H2O*(pH2O_i - pH2O_o),0)\n",
    "    \n",
    "    yN_star_total.append(yN_star)\n",
    "    yNOx.append((yNO+yNO2+2*yN2O3+2*yN2O4+yHNO2+yHNO3)/yT)"
   ]
  },
  {
   "cell_type": "code",
   "execution_count": 46,
   "id": "c3db4318-f53a-42a3-802f-c528ad816df1",
   "metadata": {},
   "outputs": [
    {
     "name": "stdout",
     "output_type": "stream",
     "text": [
      "NOx removal efficiency is  68.80888716288493  %\n"
     ]
    }
   ],
   "source": [
    "print('NOx removal efficiency is ', 100*(1 - yN_star/yN_star_0), ' %')"
   ]
  },
  {
   "cell_type": "code",
   "execution_count": 47,
   "id": "2501494d-9ddf-4a27-9353-dedadbf848db",
   "metadata": {
    "tags": []
   },
   "outputs": [
    {
     "name": "stdout",
     "output_type": "stream",
     "text": [
      "pNO_o   = 0.41211410.6 kPa     pNO_i    = 0.41233410.6 kPa\n",
      "pNO2_o  = 0.41690910.6 kPa     pNO2_i   = 0.41682910.6 kPa     pNO2_b   = 0.41678510.6 kPa\n",
      "pN2O4_o = 0.01113410.6 kPa     pN2O4_i  = 0.01113010.6 kPa     pN2O4_b  = 0.01112710.6 kPa\n",
      "pN2O3_o = 0.00088110.6 kPa     pN2O3_i  = 0.00088110.6 kPa     pN2O3_b  = 0.00088110.6 kPa\n",
      "pHNO2_o = 0.08654510.6 kPa     pHNO2_i  = 0.08658510.6 kPa     pHNO2_b  = 0.08658010.6 kPa\n",
      "pH2O_o  = 3.14967510.6 kPa     pH2O_i   = 3.15152810.6 kPa\n",
      "pHNO3_o = 0.00708910.6 kPa     pHNO3_i  = 0.00000510.6 kPa\n"
     ]
    }
   ],
   "source": [
    "print('pNO_o   = %f10.6 kPa     pNO_i    = %f10.6 kPa' %(pNO_o, pNO_i))\n",
    "print('pNO2_o  = %f10.6 kPa     pNO2_i   = %f10.6 kPa     pNO2_b   = %f10.6 kPa' %(pNO2_o, pNO2_i, pNO2_b))\n",
    "print('pN2O4_o = %f10.6 kPa     pN2O4_i  = %f10.6 kPa     pN2O4_b  = %f10.6 kPa' %(pN2O4_o, pN2O4_i, pN2O4_b))\n",
    "print('pN2O3_o = %f10.6 kPa     pN2O3_i  = %f10.6 kPa     pN2O3_b  = %f10.6 kPa' %(pN2O3_o, pN2O3_i, pN2O3_b))\n",
    "print('pHNO2_o = %f10.6 kPa     pHNO2_i  = %f10.6 kPa     pHNO2_b  = %f10.6 kPa' %(pHNO2_o, pHNO2_i, pHNO2_b))\n",
    "print('pH2O_o  = %f10.6 kPa     pH2O_i   = %f10.6 kPa' %(pH2O_o, pH2O_i))\n",
    "print('pHNO3_o = %f10.6 kPa     pHNO3_i  = %f10.6 kPa' %(pHNO3_o, pHNO3_i))"
   ]
  },
  {
   "cell_type": "code",
   "execution_count": 48,
   "id": "117f3b5f-74c8-495e-abd1-b7af5acae1c7",
   "metadata": {},
   "outputs": [
    {
     "data": {
      "image/png": "[encoded data removed]",
      "text/plain": [
       "<Figure size 1200x500 with 1 Axes>"
      ]
     },
     "metadata": {},
     "output_type": "display_data"
    }
   ],
   "source": [
    "plt.figure(figsize=(12,5))\n",
    "plt.plot(heights, np.array(yN_star_total)*100)\n",
    "plt.xlabel('Height [m]')\n",
    "plt.ylabel('mol gaseous NOx per mol inert [%]')\n",
    "plt.axis([0,1.5, 0, 5])\n",
    "plt.grid()"
   ]
  },
  {
   "cell_type": "code",
   "execution_count": 49,
   "id": "cd167757-a987-4518-9b59-fd204053eb59",
   "metadata": {},
   "outputs": [
    {
     "data": {
      "image/png": "[encoded data removed]",
      "text/plain": [
       "<Figure size 1200x500 with 1 Axes>"
      ]
     },
     "metadata": {},
     "output_type": "display_data"
    }
   ],
   "source": [
    "plt.figure(figsize=(12,5))\n",
    "plt.plot(heights, np.array(yNOx)*100)\n",
    "plt.xlabel('Height [m]')\n",
    "plt.ylabel('NOx mole fraction [%]')\n",
    "plt.axis([0,1.0, 0, 5])\n",
    "plt.grid()"
   ]
  },
  {
   "cell_type": "code",
   "execution_count": 50,
   "id": "5b330c55-f120-484c-8289-0c60c7942d02",
   "metadata": {},
   "outputs": [
    {
     "name": "stdout",
     "output_type": "stream",
     "text": [
      "NOx measured at the inlet is  2.4358557818171076  %\n",
      "NOx measured at the outlet is  0.81814156471371  %\n",
      "The NOx absorption efficiency by NOx measurement is  66.41256141595584  %\n"
     ]
    }
   ],
   "source": [
    "print('NOx measured at the inlet is ', x_NOx_0*100, ' %')\n",
    "print('NOx measured at the outlet is ', (yNO+yNO2)/yT*100, ' %')\n",
    "print('The NOx absorption efficiency by NOx measurement is ', (1-(yNO+yNO2)/yT/x_NOx_0)*100, ' %')"
   ]
  },
  {
   "cell_type": "code",
   "execution_count": null,
   "id": "39cfaf39-4757-409d-9812-477bdab351a5",
   "metadata": {},
   "outputs": [],
   "source": []
  }
 ],
 "metadata": {
  "kernelspec": {
   "display_name": "Python 3 (ipykernel)",
   "language": "python",
   "name": "python3"
  },
  "language_info": {
   "codemirror_mode": {
    "name": "ipython",
    "version": 3
   },
   "file_extension": ".py",
   "mimetype": "text/x-python",
   "name": "python",
   "nbconvert_exporter": "python",
   "pygments_lexer": "ipython3",
   "version": "3.8.10"
  }
 },
 "nbformat": 4,
 "nbformat_minor": 5
}
